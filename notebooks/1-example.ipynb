{
 "cells": [
  {
   "cell_type": "code",
   "execution_count": 2,
   "metadata": {},
   "outputs": [],
   "source": [
    "import os\n",
    "\n",
    "os.environ[\"OPENAI_API_KEY\"] = \"<your OpenAI api key>\"\n",
    "from llmner import ZeroShotNer"
   ]
  },
  {
   "cell_type": "code",
   "execution_count": 3,
   "metadata": {},
   "outputs": [],
   "source": [
    "entities = {\n",
    "    \"person\": \"A person name, it can include first and last names, for example: John Kennedy and Bill Gates\",\n",
    "    \"organization\": \"An organization name, it can be a company, a government agency, etc.\",\n",
    "    \"location\": \"A location name, it can be a city, a country, etc.\",\n",
    "}"
   ]
  },
  {
   "cell_type": "code",
   "execution_count": 4,
   "metadata": {},
   "outputs": [],
   "source": [
    "model = ZeroShotNer(\n",
    "    prompting_method=\"multi_turn\",\n",
    "    answer_shape=\"inline\",\n",
    "    final_message_with_all_entities=True,\n",
    ")\n",
    "model.contextualize(entities=entities)"
   ]
  },
  {
   "cell_type": "code",
   "execution_count": 5,
   "metadata": {},
   "outputs": [
    {
     "name": "stderr",
     "output_type": "stream",
     "text": [
      "100%|██████████| 1/1 [00:04<00:00,  4.39s/ example]\n"
     ]
    },
    {
     "data": {
      "text/plain": [
       "[AnnotatedDocument(text='Pedro Pereira is the president of Perú and the owner of Walmart.', annotations={Annotation(start=34, end=38, label='location', text='Perú'), Annotation(start=56, end=63, label='organization', text='Walmart'), Annotation(start=0, end=13, label='person', text='Pedro Pereira')})]"
      ]
     },
     "execution_count": 5,
     "metadata": {},
     "output_type": "execute_result"
    }
   ],
   "source": [
    "model.predict([\"Pedro Pereira is the president of Perú and the owner of Walmart.\"])"
   ]
  }
 ],
 "metadata": {
  "kernelspec": {
   "display_name": "Python 3",
   "language": "python",
   "name": "python3"
  },
  "language_info": {
   "codemirror_mode": {
    "name": "ipython",
    "version": 3
   },
   "file_extension": ".py",
   "mimetype": "text/x-python",
   "name": "python",
   "nbconvert_exporter": "python",
   "pygments_lexer": "ipython3",
   "version": "3.12.0"
  }
 },
 "nbformat": 4,
 "nbformat_minor": 2
}
